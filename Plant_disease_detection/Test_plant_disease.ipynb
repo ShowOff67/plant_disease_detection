{
  "cells": [
    {
      "cell_type": "markdown",
      "metadata": {
        "id": "R7I3n5Qhivq9"
      },
      "source": [
        "# Importing Libraries"
      ]
    },
    {
      "cell_type": "code",
      "execution_count": null,
      "metadata": {
        "id": "LGvbrjr9ivrA"
      },
      "outputs": [],
      "source": [
        "import numpy as np\n",
        "import tensorflow as tf\n",
        "from tensorflow.keras.preprocessing.image import ImageDataGenerator\n",
        "import matplotlib.pyplot as plt"
      ]
    },
    {
      "cell_type": "markdown",
      "metadata": {
        "id": "Lrh80WdqivrA"
      },
      "source": [
        "# Test set Image Processing"
      ]
    },
    {
      "cell_type": "code",
      "execution_count": null,
      "metadata": {
        "id": "U_i0yBG3iCKs"
      },
      "outputs": [],
      "source": [
        "validation_set = tf.keras.utils.image_dataset_from_directory(\n",
        "    'valid',\n",
        "    labels=\"inferred\",\n",
        "    label_mode=\"categorical\",\n",
        "    class_names=None,\n",
        "    color_mode=\"rgb\",\n",
        "    batch_size=32,\n",
        "    image_size=(128, 128),\n",
        "    shuffle=True,\n",
        "    seed=None,\n",
        "    validation_split=None,\n",
        "    subset=None,\n",
        "    interpolation=\"bilinear\",\n",
        "    follow_links=False,\n",
        "    crop_to_aspect_ratio=False\n",
        ")\n",
        "class_name = validation_set.class_names\n",
        "print(class_name)"
      ]
    },
    {
      "cell_type": "markdown",
      "metadata": {
        "id": "B7HlGgZ-ivrB"
      },
      "source": [
        "# Loading Model"
      ]
    },
    {
      "cell_type": "code",
      "execution_count": null,
      "metadata": {
        "id": "npPKN-pvivrB"
      },
      "outputs": [],
      "source": [
        "cnn = tf.keras.models.load_model('trained_plant_disease_model.keras')"
      ]
    },
    {
      "cell_type": "markdown",
      "metadata": {
        "id": "ZyZ8k74wsvi8"
      },
      "source": [
        "#Visualising and Performing Prediction on Single image"
      ]
    },
    {
      "cell_type": "code",
      "execution_count": null,
      "metadata": {
        "id": "viGPiLX1lVtq"
      },
      "outputs": [],
      "source": [
        "#Test Image Visualization\n",
        "import cv2\n",
        "image_path = '/content/TomatoYellowCurlVirus3.JPG'\n",
        "# Reading an image in default mode\n",
        "img = cv2.imread(image_path)\n",
        "img = cv2.cvtColor(img,cv2.COLOR_BGR2RGB) #Converting BGR to RGB\n",
        "# Displaying the image\n",
        "plt.imshow(img)\n",
        "plt.title('Test Image')\n",
        "plt.xticks([])\n",
        "plt.yticks([])\n",
        "plt.show()"
      ]
    },
    {
      "cell_type": "markdown",
      "metadata": {
        "id": "2I42Rh9glXPs"
      },
      "source": [
        "## Testing Model"
      ]
    },
    {
      "cell_type": "code",
      "execution_count": null,
      "metadata": {
        "id": "yGMAC0YIlV7j"
      },
      "outputs": [],
      "source": [
        "image = tf.keras.preprocessing.image.load_img(image_path,target_size=(128,128))\n",
        "input_arr = tf.keras.preprocessing.image.img_to_array(image)\n",
        "input_arr = np.array([input_arr])  # Convert single image to a batch.\n",
        "predictions = cnn.predict(input_arr)"
      ]
    },
    {
      "cell_type": "code",
      "execution_count": null,
      "metadata": {
        "id": "bvHUYyWjnXEV"
      },
      "outputs": [],
      "source": [
        "print(predictions)"
      ]
    },
    {
      "cell_type": "code",
      "execution_count": null,
      "metadata": {
        "id": "9Tc22vkqooBO"
      },
      "outputs": [],
      "source": [
        "result_index = np.argmax(predictions) #Return index of max element\n",
        "print(result_index)"
      ]
    },
    {
      "cell_type": "code",
      "execution_count": null,
      "metadata": {
        "id": "3suq4fE6iCK1"
      },
      "outputs": [],
      "source": []
    },
    {
      "cell_type": "code",
      "execution_count": null,
      "metadata": {
        "id": "ozb2dNvvnNry"
      },
      "outputs": [],
      "source": [
        "# Displaying the disease prediction\n",
        "model_prediction = class_name[result_index]\n",
        "plt.imshow(img)\n",
        "plt.title(f\"Disease Name: {model_prediction}\")\n",
        "plt.xticks([])\n",
        "plt.yticks([])\n",
        "plt.show()"
      ]
    },
    {
      "cell_type": "code",
      "execution_count": null,
      "metadata": {
        "id": "6xm8BeBKQadZ"
      },
      "outputs": [],
      "source": []
    }
  ],
  "metadata": {
    "colab": {
      "provenance": [],
      "gpuType": "T4"
    },
    "kernelspec": {
      "display_name": "Python 3",
      "name": "python3"
    },
    "language_info": {
      "codemirror_mode": {
        "name": "ipython",
        "version": 3
      },
      "file_extension": ".py",
      "mimetype": "text/x-python",
      "name": "python",
      "nbconvert_exporter": "python",
      "pygments_lexer": "ipython3",
      "version": "3.10.12"
    },
    "accelerator": "GPU"
  },
  "nbformat": 4,
  "nbformat_minor": 0
}